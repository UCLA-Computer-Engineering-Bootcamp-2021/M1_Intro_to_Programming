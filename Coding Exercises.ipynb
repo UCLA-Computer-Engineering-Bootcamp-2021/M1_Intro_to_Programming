{
 "cells": [
  {
   "cell_type": "markdown",
   "metadata": {
    "id": "0s_PaCN2IwF4"
   },
   "source": [
    "# UCLA CE Bootcamp 2021 Module 1\n",
    "# Python Introduction"
   ]
  },
  {
   "cell_type": "markdown",
   "metadata": {
    "id": "Qh85rPnPIwF-"
   },
   "source": [
    "## Exercise 3 - Dictionaries\n",
    "\n",
    "Given the dictionaries D and E defined below, do the following:\n",
    "* Add John's and Tom's surnames with \"Surname\" as a key.\n",
    "* Change John's city to NY.\n",
    "* Create a list F with both dictionaries as it's elements.\n",
    "* Print out the age of the first person on the list F."
   ]
  },
  {
   "cell_type": "code",
   "execution_count": null,
   "metadata": {
    "id": "BpRlcHGEIwF-",
    "outputId": "ecf7fb7d-e110-46d8-ecdd-b86647881c15"
   },
   "outputs": [],
   "source": [
    "# Those are the dictionaries you will be working on\n",
    "D = {'Name': 'John', \"Age\": 17, \"City\": \"LA\"}\n",
    "E = {'Name': 'Tom',  \"Age\": 16, \"City\": \"SF\"}\n",
    "\n",
    "# Write your code below\n",
    "# Add John's and Tom's surnames with \"Surname\" as a key\n",
    "\n",
    "print (\"John's surname is: \")\n",
    "print (\"Tom's surname is: \")\n",
    "\n",
    "# Change John's city to NY\n",
    "\n",
    "print (\"John's city is: \" + D[\"City\"])\n",
    "\n",
    "# Create a list F with both dictionaries as it's elements \n",
    "F = []\n",
    "\n",
    "# Print out the age of the first person on the list F\n",
    "\n",
    "print(\"First person on list F is: \" )"
   ]
  },
  {
   "cell_type": "markdown",
   "metadata": {
    "id": "smaXZ5UUIwGA"
   },
   "source": [
    "## Exercise 4 - Looping\n",
    "Given the list G (of dictionaries) below, do the following:\n",
    "* Write a for loop that prints out all names.\n",
    "* Write another for loop that adds up all ages and print the sum at the end."
   ]
  },
  {
   "cell_type": "code",
   "execution_count": null,
   "metadata": {
    "id": "Y4eRbE9HIwGA"
   },
   "outputs": [],
   "source": [
    "# This is the list of dictionaries you will be using\n",
    "G = [{'Name': 'John', 'Age': 17}, {'Name': 'Tom', 'Age': 16}, {'Name': \"Kate\", 'Age': 17}, {'Name': 'Laura', 'Age': 18}]\n",
    "\n",
    "# Write your code below.\n",
    "\n",
    "# Write a for loop that prints out all names.\n",
    "\n",
    "# Write another for loop that adds up all ages and print the sum at the end."
   ]
  },
  {
   "cell_type": "markdown",
   "metadata": {
    "id": "ekcaXmvBIwGB"
   },
   "source": [
    "## Exercise 5 - Conditional\n",
    "\n",
    "* Given the list D (of integers) below, do the following:\n",
    "* Print only those values that are even in the list"
   ]
  },
  {
   "cell_type": "code",
   "execution_count": null,
   "metadata": {
    "id": "quq5JmwgIwGC"
   },
   "outputs": [],
   "source": [
    "# This is the list of integers you will be using\n",
    "D = {4,10, 13, 18, 21}\n",
    "\n",
    "# Write your code below.\n",
    "\n",
    "# Write a loop with if condition to print even values"
   ]
  },
  {
   "cell_type": "markdown",
   "metadata": {
    "id": "_dVD0Am0IwF_"
   },
   "source": [
    "## Exercise 6 - Functions\n",
    "\n",
    "Write a function gte10() that does the following things:\n",
    "* The function takes a number x into the function.\n",
    "* In the function, deduct 10 from x.\n",
    "* If the result of the deduction is greater than or equal to 0, the function returns 1.\n",
    "* Otherwise, it returns 0."
   ]
  },
  {
   "cell_type": "code",
   "execution_count": null,
   "metadata": {
    "id": "d65g1rUtIwF_",
    "outputId": "f44640ac-eb19-44b6-8bce-fadd444f3766"
   },
   "outputs": [],
   "source": [
    "# Add function implementation here\n",
    "def gte10(x):\n",
    "    return 1\n",
    "\n",
    "\n",
    "# Don't modify this part\n",
    "print (gte10(10))\n",
    "print (gte10(11))\n",
    "print (gte10(9))\n",
    "print (gte10(0))\n",
    "print (gte10(-1))\n"
   ]
  },
  {
   "cell_type": "markdown",
   "metadata": {
    "id": "LrII2JsIZ0z9"
   },
   "source": [
    "# Exercise 7 - Inputs and Modules\n",
    "\n",
    "Write code that does the following things:\n",
    "\n",
    "* Take a raw input string and request for a number\n",
    "* Check if string is a number\n",
    "* Converts input string to int\n",
    "* Use python’s intrinsic math library to get the square root of the input number. \n"
   ]
  },
  {
   "cell_type": "code",
   "execution_count": null,
   "metadata": {
    "id": "TT9XTbBnZvqo"
   },
   "outputs": [],
   "source": [
    "#Import math library\n",
    "import math\n",
    "\n",
    "# Take an input string\n",
    "input = \"?\"\n",
    "\n",
    "#Check if string is a number\n",
    "condition = False\n",
    "print(condition)\n",
    "\n",
    "#Convert string to number\n",
    "num = 0\n",
    "\n",
    "#Print square root of number\n",
    "print(\"Square root of \" + input + \" is \"+ )"
   ]
  }
 ],
 "metadata": {
  "colab": {
   "collapsed_sections": [],
   "name": "LACC2021 Module 1 - Python Intro.ipynb",
   "provenance": []
  },
  "kernelspec": {
   "display_name": "Python 3",
   "language": "python",
   "name": "python3"
  },
  "language_info": {
   "codemirror_mode": {
    "name": "ipython",
    "version": 3
   },
   "file_extension": ".py",
   "mimetype": "text/x-python",
   "name": "python",
   "nbconvert_exporter": "python",
   "pygments_lexer": "ipython3",
   "version": "3.7.9"
  }
 },
 "nbformat": 4,
 "nbformat_minor": 1
}
